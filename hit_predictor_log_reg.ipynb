{
 "cells": [
  {
   "cell_type": "code",
   "execution_count": 148,
   "id": "62561e02",
   "metadata": {},
   "outputs": [],
   "source": [
    "import pybaseball"
   ]
  },
  {
   "cell_type": "code",
   "execution_count": 149,
   "id": "c4be05f3",
   "metadata": {},
   "outputs": [],
   "source": [
    "from pybaseball import statcast\n",
    "from pybaseball import playerid_lookup\n",
    "from pybaseball import statcast_pitcher\n",
    "from pybaseball import statcast_batter"
   ]
  },
  {
   "cell_type": "code",
   "execution_count": 150,
   "id": "1a26e44e",
   "metadata": {},
   "outputs": [],
   "source": [
    "import pandas as pd\n",
    "import numpy as np\n",
    "import matplotlib.pyplot as plt\n",
    "import seaborn as sns"
   ]
  },
  {
   "cell_type": "code",
   "execution_count": 151,
   "id": "e2deb7aa",
   "metadata": {},
   "outputs": [],
   "source": [
    "from sklearn import preprocessing"
   ]
  },
  {
   "cell_type": "code",
   "execution_count": 152,
   "id": "46dd689c",
   "metadata": {},
   "outputs": [],
   "source": [
    "from sklearn.linear_model import LogisticRegression\n",
    "from sklearn.model_selection import train_test_split"
   ]
  },
  {
   "cell_type": "code",
   "execution_count": 153,
   "id": "2d47d03f",
   "metadata": {},
   "outputs": [],
   "source": [
    "pybaseball.cache.enable()"
   ]
  },
  {
   "cell_type": "code",
   "execution_count": 154,
   "id": "0a4de9c2",
   "metadata": {},
   "outputs": [
    {
     "name": "stdout",
     "output_type": "stream",
     "text": [
      "This is a large query, it may take a moment to complete\n",
      "Skipping offseason dates\n"
     ]
    },
    {
     "name": "stderr",
     "output_type": "stream",
     "text": [
      "100%|█████████████████████████████████████████| 414/414 [01:01<00:00,  6.75it/s]\n"
     ]
    }
   ],
   "source": [
    "data = pybaseball.statcast(start_dt='2018-03-29', end_dt='2019-10-05')"
   ]
  },
  {
   "cell_type": "code",
   "execution_count": 8,
   "id": "8f88fb06",
   "metadata": {},
   "outputs": [],
   "source": [
    "#data.to_pickle(\"2018_2021_data.pkl\")"
   ]
  },
  {
   "cell_type": "code",
   "execution_count": 6,
   "id": "faaeee12",
   "metadata": {},
   "outputs": [],
   "source": [
    "#data = pd.read_pickle(\"2018_2021_data.pkl\")"
   ]
  },
  {
   "cell_type": "code",
   "execution_count": 155,
   "id": "b263e25c",
   "metadata": {},
   "outputs": [],
   "source": [
    "data2 = data[(data.game_type =='R') & (data.type=='X')] #only want in play"
   ]
  },
  {
   "cell_type": "code",
   "execution_count": 156,
   "id": "ed6e2e06",
   "metadata": {},
   "outputs": [
    {
     "name": "stderr",
     "output_type": "stream",
     "text": [
      "/var/folders/xd/l65my3cs3xd22_hbb7427_1r0000gn/T/ipykernel_91708/3956029374.py:1: SettingWithCopyWarning: \n",
      "A value is trying to be set on a copy of a slice from a DataFrame.\n",
      "Try using .loc[row_indexer,col_indexer] = value instead\n",
      "\n",
      "See the caveats in the documentation: https://pandas.pydata.org/pandas-docs/stable/user_guide/indexing.html#returning-a-view-versus-a-copy\n",
      "  data2['year'] = pd.DatetimeIndex(data2['game_date']).year\n"
     ]
    }
   ],
   "source": [
    "data2['year'] = pd.DatetimeIndex(data2['game_date']).year"
   ]
  },
  {
   "cell_type": "code",
   "execution_count": 157,
   "id": "308ff832",
   "metadata": {},
   "outputs": [],
   "source": [
    "data2 = data2[data2.year==2018] #just do 2018 for now"
   ]
  },
  {
   "cell_type": "code",
   "execution_count": 158,
   "id": "1f80052d",
   "metadata": {},
   "outputs": [],
   "source": [
    "data2['y'] = np.where(data2['woba_value'] > 0, 1, 0) #simple yes or no hit"
   ]
  },
  {
   "cell_type": "code",
   "execution_count": 160,
   "id": "5f5b0046",
   "metadata": {},
   "outputs": [],
   "source": [
    "columns = ['pitch_type','release_speed',  'zone', \n",
    "          'vx0', 'vy0', 'vz0', 'ax','ay','az','launch_speed', 'launch_angle', 'hc_x', 'hc_y','y']"
   ]
  },
  {
   "cell_type": "code",
   "execution_count": 161,
   "id": "1029564f",
   "metadata": {},
   "outputs": [],
   "source": [
    "data3 = data2[columns]"
   ]
  },
  {
   "cell_type": "code",
   "execution_count": 164,
   "id": "1d1cc468",
   "metadata": {},
   "outputs": [
    {
     "data": {
      "text/html": [
       "<div>\n",
       "<style scoped>\n",
       "    .dataframe tbody tr th:only-of-type {\n",
       "        vertical-align: middle;\n",
       "    }\n",
       "\n",
       "    .dataframe tbody tr th {\n",
       "        vertical-align: top;\n",
       "    }\n",
       "\n",
       "    .dataframe thead th {\n",
       "        text-align: right;\n",
       "    }\n",
       "</style>\n",
       "<table border=\"1\" class=\"dataframe\">\n",
       "  <thead>\n",
       "    <tr style=\"text-align: right;\">\n",
       "      <th></th>\n",
       "      <th>release_speed</th>\n",
       "      <th>zone</th>\n",
       "      <th>vx0</th>\n",
       "      <th>vy0</th>\n",
       "      <th>vz0</th>\n",
       "      <th>ax</th>\n",
       "      <th>ay</th>\n",
       "      <th>az</th>\n",
       "      <th>launch_speed</th>\n",
       "      <th>launch_angle</th>\n",
       "      <th>hc_x</th>\n",
       "      <th>hc_y</th>\n",
       "    </tr>\n",
       "    <tr>\n",
       "      <th>y</th>\n",
       "      <th></th>\n",
       "      <th></th>\n",
       "      <th></th>\n",
       "      <th></th>\n",
       "      <th></th>\n",
       "      <th></th>\n",
       "      <th></th>\n",
       "      <th></th>\n",
       "      <th></th>\n",
       "      <th></th>\n",
       "      <th></th>\n",
       "      <th></th>\n",
       "    </tr>\n",
       "  </thead>\n",
       "  <tbody>\n",
       "    <tr>\n",
       "      <th>0</th>\n",
       "      <td>88.781889</td>\n",
       "      <td>6.89076</td>\n",
       "      <td>2.296671</td>\n",
       "      <td>-129.073967</td>\n",
       "      <td>-4.000852</td>\n",
       "      <td>-2.814226</td>\n",
       "      <td>26.221873</td>\n",
       "      <td>-23.38279</td>\n",
       "      <td>85.578915</td>\n",
       "      <td>12.879743</td>\n",
       "      <td>127.959724</td>\n",
       "      <td>133.014065</td>\n",
       "    </tr>\n",
       "    <tr>\n",
       "      <th>1</th>\n",
       "      <td>88.876462</td>\n",
       "      <td>6.654282</td>\n",
       "      <td>2.27981</td>\n",
       "      <td>-129.209966</td>\n",
       "      <td>-4.049338</td>\n",
       "      <td>-2.826505</td>\n",
       "      <td>26.192564</td>\n",
       "      <td>-23.344661</td>\n",
       "      <td>93.40566</td>\n",
       "      <td>11.088778</td>\n",
       "      <td>124.388161</td>\n",
       "      <td>101.568882</td>\n",
       "    </tr>\n",
       "  </tbody>\n",
       "</table>\n",
       "</div>"
      ],
      "text/plain": [
       "   release_speed      zone       vx0         vy0       vz0        ax  \\\n",
       "y                                                                      \n",
       "0      88.781889   6.89076  2.296671 -129.073967 -4.000852 -2.814226   \n",
       "1      88.876462  6.654282   2.27981 -129.209966 -4.049338 -2.826505   \n",
       "\n",
       "          ay         az  launch_speed  launch_angle        hc_x        hc_y  \n",
       "y                                                                            \n",
       "0  26.221873  -23.38279     85.578915     12.879743  127.959724  133.014065  \n",
       "1  26.192564 -23.344661      93.40566     11.088778  124.388161  101.568882  "
      ]
     },
     "execution_count": 164,
     "metadata": {},
     "output_type": "execute_result"
    }
   ],
   "source": [
    "data3.groupby('y').mean()"
   ]
  },
  {
   "cell_type": "code",
   "execution_count": 165,
   "id": "8aceecb5",
   "metadata": {},
   "outputs": [],
   "source": [
    "data34 = data3.iloc[0:5500] # was having issues with size of data, so going to use small dataseet for now"
   ]
  },
  {
   "cell_type": "code",
   "execution_count": 167,
   "id": "6e28d1fc",
   "metadata": {},
   "outputs": [],
   "source": [
    "data_vars=data34.columns.values.tolist()\n",
    "to_keep=[i for i in data_vars]"
   ]
  },
  {
   "cell_type": "code",
   "execution_count": 168,
   "id": "8e1ad2e9",
   "metadata": {},
   "outputs": [
    {
     "data": {
      "text/plain": [
       "array(['pitch_type', 'release_speed', 'zone', 'vx0', 'vy0', 'vz0', 'ax',\n",
       "       'ay', 'az', 'launch_speed', 'launch_angle', 'hc_x', 'hc_y', 'y'],\n",
       "      dtype=object)"
      ]
     },
     "execution_count": 168,
     "metadata": {},
     "output_type": "execute_result"
    }
   ],
   "source": [
    "data_final=data34[to_keep]\n",
    "data_final.columns.values"
   ]
  },
  {
   "cell_type": "code",
   "execution_count": 169,
   "id": "2b259f21",
   "metadata": {},
   "outputs": [],
   "source": [
    "data_final = data3[['release_speed',   \n",
    "          'vx0', 'vy0', 'vz0', 'ax','ay','az','launch_speed', 'launch_angle', 'hc_x', 'hc_y','y']].dropna()"
   ]
  },
  {
   "cell_type": "code",
   "execution_count": 170,
   "id": "f3598341",
   "metadata": {},
   "outputs": [],
   "source": [
    "X = data_final.loc[:, data_final.columns != 'y']\n",
    "y = data_final.loc[:, data_final.columns == 'y']\n",
    "X_train, X_test, y_train, y_test = train_test_split(X, y, test_size=0.3, random_state=0)"
   ]
  },
  {
   "cell_type": "code",
   "execution_count": 171,
   "id": "79f62829",
   "metadata": {},
   "outputs": [
    {
     "name": "stderr",
     "output_type": "stream",
     "text": [
      "/Users/jackguebert/opt/anaconda3/lib/python3.9/site-packages/sklearn/utils/validation.py:70: FutureWarning: Pass n_features_to_select=20 as keyword args. From version 1.0 (renaming of 0.25) passing these as positional arguments will result in an error\n",
      "  warnings.warn(f\"Pass {args_msg} as keyword args. From version \"\n"
     ]
    },
    {
     "name": "stdout",
     "output_type": "stream",
     "text": [
      "[ True  True  True  True  True  True  True  True  True  True  True]\n",
      "[1 1 1 1 1 1 1 1 1 1 1]\n"
     ]
    }
   ],
   "source": [
    "data_final_vars=data_final.columns.values.tolist()\n",
    "y=['y']\n",
    "X=[i for i in data_final_vars if i not in y]\n",
    "from sklearn.feature_selection import RFE\n",
    "from sklearn.linear_model import LogisticRegression\n",
    "logreg = LogisticRegression()\n",
    "rfe = RFE(logreg, 20)\n",
    "rfe = rfe.fit(X_train, y_train.values.ravel())\n",
    "print(rfe.support_)\n",
    "print(rfe.ranking_)"
   ]
  },
  {
   "cell_type": "code",
   "execution_count": 172,
   "id": "06adfdc3",
   "metadata": {},
   "outputs": [],
   "source": [
    "import statsmodels.api as sm"
   ]
  },
  {
   "cell_type": "code",
   "execution_count": 173,
   "id": "1c37c3d0",
   "metadata": {},
   "outputs": [],
   "source": [
    "X = data_final.loc[:, data_final.columns != 'y']\n",
    "y = data_final.loc[:, data_final.columns == 'y']"
   ]
  },
  {
   "cell_type": "code",
   "execution_count": 174,
   "id": "a8a956e2",
   "metadata": {},
   "outputs": [],
   "source": [
    "logit_model=sm.Logit(y,X.astype(float))"
   ]
  },
  {
   "cell_type": "code",
   "execution_count": 175,
   "id": "350ee45d",
   "metadata": {},
   "outputs": [
    {
     "name": "stdout",
     "output_type": "stream",
     "text": [
      "Optimization terminated successfully.\n",
      "         Current function value: 0.542777\n",
      "         Iterations 6\n",
      "                          Results: Logit\n",
      "==================================================================\n",
      "Model:              Logit            Pseudo R-squared: 0.149      \n",
      "Dependent Variable: y                AIC:              129885.8168\n",
      "Date:               2022-02-03 20:52 BIC:              129992.4305\n",
      "No. Observations:   119629           Log-Likelihood:   -64932.    \n",
      "Df Model:           10               LL-Null:          -76339.    \n",
      "Df Residuals:       119618           LLR p-value:      0.0000     \n",
      "Converged:          1.0000           Scale:            1.0000     \n",
      "No. Iterations:     6.0000                                        \n",
      "------------------------------------------------------------------\n",
      "                  Coef.  Std.Err.     z     P>|z|   [0.025  0.975]\n",
      "------------------------------------------------------------------\n",
      "release_speed     0.0923   0.0620    1.4900 0.1362 -0.0291  0.2137\n",
      "vx0              -0.0006   0.0018   -0.3534 0.7238 -0.0041  0.0029\n",
      "vy0               0.0549   0.0422    1.2989 0.1940 -0.0279  0.1376\n",
      "vz0               0.0038   0.0040    0.9402 0.3471 -0.0041  0.0117\n",
      "ax                0.0015   0.0010    1.5129 0.1303 -0.0004  0.0035\n",
      "ay               -0.0167   0.0034   -4.9238 0.0000 -0.0234 -0.0101\n",
      "az               -0.0055   0.0013   -4.2910 0.0000 -0.0080 -0.0030\n",
      "launch_speed      0.0211   0.0006   34.3234 0.0000  0.0199  0.0223\n",
      "launch_angle     -0.0281   0.0004  -71.4911 0.0000 -0.0288 -0.0273\n",
      "hc_x             -0.0015   0.0002   -9.6540 0.0000 -0.0019 -0.0012\n",
      "hc_y             -0.0246   0.0002 -101.3119 0.0000 -0.0251 -0.0241\n",
      "==================================================================\n",
      "\n"
     ]
    }
   ],
   "source": [
    "result=logit_model.fit()\n",
    "print(result.summary2()) # get rid of anything with P>0.05"
   ]
  },
  {
   "cell_type": "code",
   "execution_count": 176,
   "id": "ccbd4062",
   "metadata": {},
   "outputs": [],
   "source": [
    "#cols = ['ax', 'ay', 'az', 'launch_speed', 'launch_angle', 'hc_x', 'hc_y']\n",
    "cols = ['ay', 'az', 'launch_speed', 'launch_angle', 'hc_x', 'hc_y']"
   ]
  },
  {
   "cell_type": "code",
   "execution_count": 177,
   "id": "831b8c6c",
   "metadata": {},
   "outputs": [
    {
     "name": "stdout",
     "output_type": "stream",
     "text": [
      "Optimization terminated successfully.\n",
      "         Current function value: 0.543138\n",
      "         Iterations 6\n",
      "                          Results: Logit\n",
      "==================================================================\n",
      "Model:              Logit            Pseudo R-squared: 0.149      \n",
      "Dependent Variable: y                AIC:              129962.1737\n",
      "Date:               2022-02-03 20:53 BIC:              130020.3266\n",
      "No. Observations:   119629           Log-Likelihood:   -64975.    \n",
      "Df Model:           5                LL-Null:          -76339.    \n",
      "Df Residuals:       119623           LLR p-value:      0.0000     \n",
      "Converged:          1.0000           Scale:            1.0000     \n",
      "No. Iterations:     6.0000                                        \n",
      "------------------------------------------------------------------\n",
      "                  Coef.  Std.Err.     z     P>|z|   [0.025  0.975]\n",
      "------------------------------------------------------------------\n",
      "ay                0.0064   0.0018    3.6339 0.0003  0.0029  0.0098\n",
      "az               -0.0084   0.0009   -9.5034 0.0000 -0.0101 -0.0066\n",
      "launch_speed      0.0242   0.0005   47.2496 0.0000  0.0232  0.0252\n",
      "launch_angle     -0.0272   0.0004  -71.7005 0.0000 -0.0280 -0.0265\n",
      "hc_x             -0.0013   0.0002   -8.3415 0.0000 -0.0016 -0.0010\n",
      "hc_y             -0.0237   0.0002 -107.6795 0.0000 -0.0241 -0.0233\n",
      "==================================================================\n",
      "\n"
     ]
    }
   ],
   "source": [
    "X=X[cols]\n",
    "logit_model=sm.Logit(y,X.astype(float))\n",
    "result=logit_model.fit()\n",
    "print(result.summary2())"
   ]
  },
  {
   "cell_type": "code",
   "execution_count": 178,
   "id": "af04cfe1",
   "metadata": {},
   "outputs": [],
   "source": [
    "from sklearn import metrics"
   ]
  },
  {
   "cell_type": "code",
   "execution_count": 179,
   "id": "947e8bd1",
   "metadata": {},
   "outputs": [],
   "source": [
    "X_train, X_test, y_train, y_test = train_test_split(X, y, test_size=0.3, random_state=0)\n"
   ]
  },
  {
   "cell_type": "code",
   "execution_count": 180,
   "id": "60b6f9ef",
   "metadata": {},
   "outputs": [
    {
     "name": "stderr",
     "output_type": "stream",
     "text": [
      "/Users/jackguebert/opt/anaconda3/lib/python3.9/site-packages/sklearn/utils/validation.py:63: DataConversionWarning: A column-vector y was passed when a 1d array was expected. Please change the shape of y to (n_samples, ), for example using ravel().\n",
      "  return f(*args, **kwargs)\n"
     ]
    },
    {
     "data": {
      "text/plain": [
       "LogisticRegression()"
      ]
     },
     "execution_count": 180,
     "metadata": {},
     "output_type": "execute_result"
    }
   ],
   "source": [
    "logreg = LogisticRegression()\n",
    "logreg.fit(X_train, y_train)"
   ]
  },
  {
   "cell_type": "code",
   "execution_count": 181,
   "id": "23d2439c",
   "metadata": {},
   "outputs": [
    {
     "name": "stdout",
     "output_type": "stream",
     "text": [
      "Accuracy of logistic regression classifier on test set: 0.73\n"
     ]
    }
   ],
   "source": [
    "y_pred = logreg.predict(X_test)\n",
    "print('Accuracy of logistic regression classifier on test set: {:.2f}'.format(logreg.score(X_test, y_test)))"
   ]
  },
  {
   "cell_type": "code",
   "execution_count": 182,
   "id": "c33d9c6e",
   "metadata": {},
   "outputs": [
    {
     "name": "stdout",
     "output_type": "stream",
     "text": [
      "[[21016  2715]\n",
      " [ 6954  5204]]\n"
     ]
    }
   ],
   "source": [
    "from sklearn.metrics import confusion_matrix\n",
    "confusion_matrix = confusion_matrix(y_test, y_pred)\n",
    "print(confusion_matrix)"
   ]
  },
  {
   "cell_type": "code",
   "execution_count": 183,
   "id": "b57f58fe",
   "metadata": {},
   "outputs": [
    {
     "name": "stdout",
     "output_type": "stream",
     "text": [
      "              precision    recall  f1-score   support\n",
      "\n",
      "           0       0.75      0.89      0.81     23731\n",
      "           1       0.66      0.43      0.52     12158\n",
      "\n",
      "    accuracy                           0.73     35889\n",
      "   macro avg       0.70      0.66      0.67     35889\n",
      "weighted avg       0.72      0.73      0.71     35889\n",
      "\n"
     ]
    }
   ],
   "source": [
    "from sklearn.metrics import classification_report\n",
    "print(classification_report(y_test, y_pred))"
   ]
  }
 ],
 "metadata": {
  "kernelspec": {
   "display_name": "Python 3 (ipykernel)",
   "language": "python",
   "name": "python3"
  },
  "language_info": {
   "codemirror_mode": {
    "name": "ipython",
    "version": 3
   },
   "file_extension": ".py",
   "mimetype": "text/x-python",
   "name": "python",
   "nbconvert_exporter": "python",
   "pygments_lexer": "ipython3",
   "version": "3.9.7"
  }
 },
 "nbformat": 4,
 "nbformat_minor": 5
}
